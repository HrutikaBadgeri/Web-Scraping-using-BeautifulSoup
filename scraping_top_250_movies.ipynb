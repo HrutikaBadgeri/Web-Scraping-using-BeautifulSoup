{
 "cells": [
  {
   "cell_type": "code",
   "execution_count": 192,
   "id": "f44cf9d5",
   "metadata": {},
   "outputs": [],
   "source": [
    "# let's scrap imdb website to get data on top 250 movies "
   ]
  },
  {
   "cell_type": "code",
   "execution_count": 193,
   "id": "1444b404",
   "metadata": {},
   "outputs": [],
   "source": [
    "import requests\n",
    "from bs4 import BeautifulSoup"
   ]
  },
  {
   "cell_type": "code",
   "execution_count": 194,
   "id": "6af014bc",
   "metadata": {},
   "outputs": [
    {
     "name": "stdout",
     "output_type": "stream",
     "text": [
      "<Response [200]>\n"
     ]
    }
   ],
   "source": [
    "url = \"https://www.imdb.com/chart/top/\"\n",
    "headers = {'User-Agent': 'Mozilla/5.0 (Macintosh; Intel Mac OS X 10_10_1) AppleWebKit/537.36 (KHTML, like Gecko) Chrome/39.0.2171.95 Safari/537.36'}\n",
    "response = requests.get(url, headers=headers)\n",
    "print(response)"
   ]
  },
  {
   "cell_type": "code",
   "execution_count": 195,
   "id": "4be9b9f4",
   "metadata": {},
   "outputs": [],
   "source": [
    "soup = BeautifulSoup(response.text,\"html.parser\")"
   ]
  },
  {
   "cell_type": "code",
   "execution_count": 196,
   "id": "d7e6c248",
   "metadata": {},
   "outputs": [],
   "source": [
    "movie_names = soup.find_all(\"h3\", class_=\"ipc-title__text\",limit=251)"
   ]
  },
  {
   "cell_type": "code",
   "execution_count": 197,
   "id": "bc658461",
   "metadata": {},
   "outputs": [],
   "source": [
    "top_250_movies = movie_names[1:251]"
   ]
  },
  {
   "cell_type": "code",
   "execution_count": 198,
   "id": "937bed5b",
   "metadata": {},
   "outputs": [
    {
     "data": {
      "text/plain": [
       "250"
      ]
     },
     "execution_count": 198,
     "metadata": {},
     "output_type": "execute_result"
    }
   ],
   "source": [
    "len(top_250_movies)"
   ]
  },
  {
   "cell_type": "code",
   "execution_count": 200,
   "id": "e8e20bb4",
   "metadata": {},
   "outputs": [],
   "source": [
    "movie_names_list = []\n",
    "for movie in top_250_movies:\n",
    "    movie_names_list.append(movie.get_text())"
   ]
  },
  {
   "cell_type": "code",
   "execution_count": 201,
   "id": "d881666e",
   "metadata": {},
   "outputs": [
    {
     "data": {
      "text/plain": [
       "250"
      ]
     },
     "execution_count": 201,
     "metadata": {},
     "output_type": "execute_result"
    }
   ],
   "source": [
    "len(movie_names_list)"
   ]
  },
  {
   "cell_type": "code",
   "execution_count": 202,
   "id": "426f9330",
   "metadata": {},
   "outputs": [
    {
     "name": "stdout",
     "output_type": "stream",
     "text": [
      "['1. The Shawshank Redemption', '2. The Godfather', '3. The Dark Knight', '4. The Godfather: Part II', '5. 12 Angry Men', \"6. Schindler's List\", '7. The Lord of the Rings: The Return of the King', '8. Pulp Fiction', '9. The Lord of the Rings: The Fellowship of the Ring', '10. Il Buono, Il Brutto, Il Cattivo']\n"
     ]
    }
   ],
   "source": [
    "print(movie_names_list[:10])"
   ]
  },
  {
   "cell_type": "code",
   "execution_count": 240,
   "id": "0f20a7f1",
   "metadata": {},
   "outputs": [],
   "source": [
    "stars = soup.find_all(\"span\",class_= \"ipc-rating-star ipc-rating-star--base ipc-rating-star--imdb ratingGroup--imdb-rating\")"
   ]
  },
  {
   "cell_type": "code",
   "execution_count": 241,
   "id": "da55f1dc",
   "metadata": {},
   "outputs": [
    {
     "data": {
      "text/plain": [
       "250"
      ]
     },
     "execution_count": 241,
     "metadata": {},
     "output_type": "execute_result"
    }
   ],
   "source": [
    "len(stars)"
   ]
  },
  {
   "cell_type": "code",
   "execution_count": 243,
   "id": "92f9a1c4",
   "metadata": {},
   "outputs": [
    {
     "data": {
      "text/plain": [
       "'9.3\\xa0(2.8M)'"
      ]
     },
     "execution_count": 243,
     "metadata": {},
     "output_type": "execute_result"
    }
   ],
   "source": [
    "string = stars[0].get_text()"
   ]
  },
  {
   "cell_type": "code",
   "execution_count": 244,
   "id": "547d7e59",
   "metadata": {},
   "outputs": [
    {
     "name": "stdout",
     "output_type": "stream",
     "text": [
      "9.3\n"
     ]
    }
   ],
   "source": [
    "string_value = \"'9.3\\xa0(2.8M)'\"\n",
    "number = float(string_value.split()[0].strip(\"'\"))\n",
    "print(number)"
   ]
  },
  {
   "cell_type": "code",
   "execution_count": 249,
   "id": "94b52695",
   "metadata": {},
   "outputs": [],
   "source": [
    "stars_out_of_10 = []\n",
    "for star in stars:\n",
    "    stars_out_of_10.append(star.get_text())"
   ]
  },
  {
   "cell_type": "code",
   "execution_count": 250,
   "id": "0bbe8533",
   "metadata": {},
   "outputs": [
    {
     "data": {
      "text/plain": [
       "250"
      ]
     },
     "execution_count": 250,
     "metadata": {},
     "output_type": "execute_result"
    }
   ],
   "source": [
    "len(r)"
   ]
  },
  {
   "cell_type": "code",
   "execution_count": 253,
   "id": "a2d4fc80",
   "metadata": {},
   "outputs": [
    {
     "data": {
      "text/plain": [
       "['9.3\\xa0(2.8M)',\n",
       " '9.2\\xa0(2M)',\n",
       " '9.0\\xa0(2.8M)',\n",
       " '9.0\\xa0(1.3M)',\n",
       " '9.0\\xa0(844K)']"
      ]
     },
     "execution_count": 253,
     "metadata": {},
     "output_type": "execute_result"
    }
   ],
   "source": [
    "stars_out_of_10[0:5]"
   ]
  },
  {
   "cell_type": "code",
   "execution_count": 254,
   "id": "bd119936",
   "metadata": {},
   "outputs": [],
   "source": [
    "i = 0\n",
    "for value in stars_out_of_10:\n",
    "    number = float(value.split()[0].strip(\"'\"))\n",
    "    stars_out_of_10[i] = number\n",
    "    i += 1"
   ]
  },
  {
   "cell_type": "code",
   "execution_count": 256,
   "id": "4c6d440f",
   "metadata": {},
   "outputs": [
    {
     "data": {
      "text/plain": [
       "250"
      ]
     },
     "execution_count": 256,
     "metadata": {},
     "output_type": "execute_result"
    }
   ],
   "source": [
    "len(stars_out_of_10)"
   ]
  },
  {
   "cell_type": "code",
   "execution_count": 203,
   "id": "266d1dfb",
   "metadata": {
    "scrolled": false
   },
   "outputs": [],
   "source": [
    "movie_info = soup.find_all(\"span\",class_ =\"sc-43986a27-8 jHYIIK cli-title-metadata-item\")"
   ]
  },
  {
   "cell_type": "code",
   "execution_count": 204,
   "id": "58d6dbce",
   "metadata": {},
   "outputs": [
    {
     "data": {
      "text/plain": [
       "749"
      ]
     },
     "execution_count": 204,
     "metadata": {},
     "output_type": "execute_result"
    }
   ],
   "source": [
    "len(movie_info)"
   ]
  },
  {
   "cell_type": "code",
   "execution_count": 205,
   "id": "cba8c3a3",
   "metadata": {},
   "outputs": [],
   "source": [
    "import re\n",
    "movie_release_year = []\n",
    "movie_duration = []\n",
    "movie_rating = []\n",
    "for info in movie_info:\n",
    "    item = info.get_text()\n",
    "    pattern = re.compile(r'\\d+h(?: \\d+m)?')\n",
    "    if pattern.match(item):\n",
    "        movie_duration.append(item)\n",
    "    elif len(item) == 4:\n",
    "        movie_release_year.append(item)\n",
    "    else:\n",
    "        movie_rating.append(item)"
   ]
  },
  {
   "cell_type": "code",
   "execution_count": 206,
   "id": "dcb57fa9",
   "metadata": {},
   "outputs": [
    {
     "data": {
      "text/plain": [
       "250"
      ]
     },
     "execution_count": 206,
     "metadata": {},
     "output_type": "execute_result"
    }
   ],
   "source": [
    "len(movie_names_list)"
   ]
  },
  {
   "cell_type": "code",
   "execution_count": 207,
   "id": "b9167931",
   "metadata": {},
   "outputs": [
    {
     "data": {
      "text/plain": [
       "250"
      ]
     },
     "execution_count": 207,
     "metadata": {},
     "output_type": "execute_result"
    }
   ],
   "source": [
    "len(movie_release_year)"
   ]
  },
  {
   "cell_type": "code",
   "execution_count": 208,
   "id": "7584a725",
   "metadata": {},
   "outputs": [
    {
     "data": {
      "text/plain": [
       "249"
      ]
     },
     "execution_count": 208,
     "metadata": {},
     "output_type": "execute_result"
    }
   ],
   "source": [
    "len(movie_duration)"
   ]
  },
  {
   "cell_type": "code",
   "execution_count": 209,
   "id": "4ace0dde",
   "metadata": {},
   "outputs": [],
   "source": [
    "movie_duration[10] = '2h 58m'"
   ]
  },
  {
   "cell_type": "code",
   "execution_count": 210,
   "id": "7a8dd305",
   "metadata": {},
   "outputs": [],
   "source": [
    "value = '2h 58m'\n",
    "movie_duration.insert(10,value)"
   ]
  },
  {
   "cell_type": "code",
   "execution_count": 211,
   "id": "fbdcdd22",
   "metadata": {},
   "outputs": [
    {
     "data": {
      "text/plain": [
       "250"
      ]
     },
     "execution_count": 211,
     "metadata": {},
     "output_type": "execute_result"
    }
   ],
   "source": [
    "len(movie_duration)"
   ]
  },
  {
   "cell_type": "code",
   "execution_count": 212,
   "id": "61991030",
   "metadata": {},
   "outputs": [
    {
     "data": {
      "text/plain": [
       "'2h 10m'"
      ]
     },
     "execution_count": 212,
     "metadata": {},
     "output_type": "execute_result"
    }
   ],
   "source": [
    "movie_duration[25]"
   ]
  },
  {
   "cell_type": "code",
   "execution_count": 213,
   "id": "3a251c3a",
   "metadata": {},
   "outputs": [
    {
     "data": {
      "text/plain": [
       "250"
      ]
     },
     "execution_count": 213,
     "metadata": {},
     "output_type": "execute_result"
    }
   ],
   "source": [
    "len(movie_rating)"
   ]
  },
  {
   "cell_type": "code",
   "execution_count": null,
   "id": "41e903e4",
   "metadata": {},
   "outputs": [],
   "source": [
    "trimmed_title = movie_title[index_of_space + 1:]"
   ]
  },
  {
   "cell_type": "code",
   "execution_count": 259,
   "id": "02785ccf",
   "metadata": {},
   "outputs": [],
   "source": [
    "i = 0\n",
    "for name in movie_names_list:\n",
    "    index = name.find(' ')\n",
    "    trimmed_title = name[index + 1:]\n",
    "    movie_names_list[i] = trimmed_title\n",
    "    i += 1"
   ]
  },
  {
   "cell_type": "code",
   "execution_count": 257,
   "id": "e28b9270",
   "metadata": {},
   "outputs": [],
   "source": [
    "movies_dict = {\n",
    "    'Name': movie_names_list,\n",
    "    'Year': movie_release_year,\n",
    "    'Duration': movie_duration,\n",
    "    'Rating': movie_rating,\n",
    "    'Stars (out of 10)': stars_out_of_10\n",
    "}"
   ]
  },
  {
   "cell_type": "code",
   "execution_count": 260,
   "id": "ae352154",
   "metadata": {},
   "outputs": [],
   "source": [
    "import pandas as pd\n",
    "data_frame = pd.DataFrame(movies_dict)"
   ]
  },
  {
   "cell_type": "code",
   "execution_count": 261,
   "id": "753f8b8c",
   "metadata": {},
   "outputs": [
    {
     "data": {
      "text/html": [
       "<div>\n",
       "<style scoped>\n",
       "    .dataframe tbody tr th:only-of-type {\n",
       "        vertical-align: middle;\n",
       "    }\n",
       "\n",
       "    .dataframe tbody tr th {\n",
       "        vertical-align: top;\n",
       "    }\n",
       "\n",
       "    .dataframe thead th {\n",
       "        text-align: right;\n",
       "    }\n",
       "</style>\n",
       "<table border=\"1\" class=\"dataframe\">\n",
       "  <thead>\n",
       "    <tr style=\"text-align: right;\">\n",
       "      <th></th>\n",
       "      <th>Name</th>\n",
       "      <th>Year</th>\n",
       "      <th>Duration</th>\n",
       "      <th>Rating</th>\n",
       "      <th>Stars (out of 10)</th>\n",
       "    </tr>\n",
       "  </thead>\n",
       "  <tbody>\n",
       "    <tr>\n",
       "      <th>0</th>\n",
       "      <td>Shawshank Redemption</td>\n",
       "      <td>1994</td>\n",
       "      <td>2h 22m</td>\n",
       "      <td>A</td>\n",
       "      <td>9.3</td>\n",
       "    </tr>\n",
       "    <tr>\n",
       "      <th>1</th>\n",
       "      <td>Godfather</td>\n",
       "      <td>1972</td>\n",
       "      <td>2h 55m</td>\n",
       "      <td>A</td>\n",
       "      <td>9.2</td>\n",
       "    </tr>\n",
       "    <tr>\n",
       "      <th>2</th>\n",
       "      <td>Dark Knight</td>\n",
       "      <td>2008</td>\n",
       "      <td>2h 32m</td>\n",
       "      <td>UA</td>\n",
       "      <td>9.0</td>\n",
       "    </tr>\n",
       "    <tr>\n",
       "      <th>3</th>\n",
       "      <td>Godfather: Part II</td>\n",
       "      <td>1974</td>\n",
       "      <td>3h 22m</td>\n",
       "      <td>A</td>\n",
       "      <td>9.0</td>\n",
       "    </tr>\n",
       "    <tr>\n",
       "      <th>4</th>\n",
       "      <td>Men</td>\n",
       "      <td>1957</td>\n",
       "      <td>1h 36m</td>\n",
       "      <td>U</td>\n",
       "      <td>9.0</td>\n",
       "    </tr>\n",
       "    <tr>\n",
       "      <th>...</th>\n",
       "      <td>...</td>\n",
       "      <td>...</td>\n",
       "      <td>...</td>\n",
       "      <td>...</td>\n",
       "      <td>...</td>\n",
       "    </tr>\n",
       "    <tr>\n",
       "      <th>245</th>\n",
       "      <td>400 Blows</td>\n",
       "      <td>1959</td>\n",
       "      <td>1h 39m</td>\n",
       "      <td>U</td>\n",
       "      <td>8.1</td>\n",
       "    </tr>\n",
       "    <tr>\n",
       "      <th>246</th>\n",
       "      <td>Aladdin</td>\n",
       "      <td>1992</td>\n",
       "      <td>1h 30m</td>\n",
       "      <td>U</td>\n",
       "      <td>8.0</td>\n",
       "    </tr>\n",
       "    <tr>\n",
       "      <th>247</th>\n",
       "      <td>with Wolves</td>\n",
       "      <td>1990</td>\n",
       "      <td>3h 1m</td>\n",
       "      <td>U</td>\n",
       "      <td>8.0</td>\n",
       "    </tr>\n",
       "    <tr>\n",
       "      <th>248</th>\n",
       "      <td>Persona</td>\n",
       "      <td>1966</td>\n",
       "      <td>1h 25m</td>\n",
       "      <td>Not Rated</td>\n",
       "      <td>8.1</td>\n",
       "    </tr>\n",
       "    <tr>\n",
       "      <th>249</th>\n",
       "      <td>of Brian</td>\n",
       "      <td>1979</td>\n",
       "      <td>1h 34m</td>\n",
       "      <td>R</td>\n",
       "      <td>8.0</td>\n",
       "    </tr>\n",
       "  </tbody>\n",
       "</table>\n",
       "<p>250 rows × 5 columns</p>\n",
       "</div>"
      ],
      "text/plain": [
       "                     Name  Year Duration     Rating  Stars (out of 10)\n",
       "0    Shawshank Redemption  1994   2h 22m          A                9.3\n",
       "1               Godfather  1972   2h 55m          A                9.2\n",
       "2             Dark Knight  2008   2h 32m         UA                9.0\n",
       "3      Godfather: Part II  1974   3h 22m          A                9.0\n",
       "4                     Men  1957   1h 36m          U                9.0\n",
       "..                    ...   ...      ...        ...                ...\n",
       "245             400 Blows  1959   1h 39m          U                8.1\n",
       "246               Aladdin  1992   1h 30m          U                8.0\n",
       "247           with Wolves  1990    3h 1m          U                8.0\n",
       "248               Persona  1966   1h 25m  Not Rated                8.1\n",
       "249              of Brian  1979   1h 34m          R                8.0\n",
       "\n",
       "[250 rows x 5 columns]"
      ]
     },
     "execution_count": 261,
     "metadata": {},
     "output_type": "execute_result"
    }
   ],
   "source": [
    "data_frame"
   ]
  },
  {
   "cell_type": "code",
   "execution_count": 234,
   "id": "59c183bc",
   "metadata": {},
   "outputs": [],
   "source": [
    "data_frame.to_csv('Movies.csv')"
   ]
  },
  {
   "cell_type": "code",
   "execution_count": 236,
   "id": "b02c029f",
   "metadata": {},
   "outputs": [
    {
     "data": {
      "text/plain": [
       "(250, 4)"
      ]
     },
     "execution_count": 236,
     "metadata": {},
     "output_type": "execute_result"
    }
   ],
   "source": [
    "data_frame.shape"
   ]
  },
  {
   "cell_type": "code",
   "execution_count": null,
   "id": "ef95b1ce",
   "metadata": {},
   "outputs": [],
   "source": []
  }
 ],
 "metadata": {
  "kernelspec": {
   "display_name": "Python 3",
   "language": "python",
   "name": "python3"
  },
  "language_info": {
   "codemirror_mode": {
    "name": "ipython",
    "version": 3
   },
   "file_extension": ".py",
   "mimetype": "text/x-python",
   "name": "python",
   "nbconvert_exporter": "python",
   "pygments_lexer": "ipython3",
   "version": "3.9.1"
  }
 },
 "nbformat": 4,
 "nbformat_minor": 5
}
